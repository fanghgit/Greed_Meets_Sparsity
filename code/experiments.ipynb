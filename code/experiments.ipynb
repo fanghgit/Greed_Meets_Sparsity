{
 "cells": [
  {
   "cell_type": "markdown",
   "metadata": {},
   "source": [
    "# Reproduce some important results from our paper \"Greed Meets Sparsity...\""
   ]
  },
  {
   "cell_type": "markdown",
   "metadata": {},
   "source": [
    "### The results in this notebook maybe a little bit different from the paper due to the random number generation"
   ]
  },
  {
   "cell_type": "code",
   "execution_count": 1,
   "metadata": {
    "collapsed": true
   },
   "outputs": [],
   "source": [
    "import numpy as np\n",
    "import random\n",
    "from sklearn.datasets.samples_generator import make_regression\n",
    "from sklearn.preprocessing import normalize\n",
    "from numpy.linalg import norm\n",
    "from sklearn.datasets import load_svmlight_file\n",
    "import matplotlib.pyplot as plt\n",
    "import matplotlib\n",
    "from lasso import lasso_gcd\n",
    "# from lasso import elastic_net_gcd\n",
    "# from lasso import lasso_omp\n",
    "# from generate_plot import *"
   ]
  },
  {
   "cell_type": "code",
   "execution_count": 2,
   "metadata": {
    "collapsed": true
   },
   "outputs": [],
   "source": [
    "random.seed(123)\n",
    "n = 50\n",
    "m = 10000\n",
    "k = 10\n",
    "e = 0.1\n",
    "#A = np.zeros( (n, m) )\n",
    "A = np.random.randn( n, m )\n",
    "xx = np.zeros( m )\n",
    "xx[ np.random.permutation(m)[:k] ] = np.random.randn(k)\n",
    "b = np.dot(A, xx) + e*np.random.randn(n)"
   ]
  },
  {
   "cell_type": "code",
   "execution_count": 3,
   "metadata": {
    "collapsed": true
   },
   "outputs": [],
   "source": [
    "A = normalize(A.T).T\n",
    "X = A\n",
    "y = b"
   ]
  },
  {
   "cell_type": "markdown",
   "metadata": {},
   "source": [
    "Use the package sklearn to get optimum"
   ]
  },
  {
   "cell_type": "code",
   "execution_count": 4,
   "metadata": {
    "collapsed": false
   },
   "outputs": [
    {
     "data": {
      "text/plain": [
       "29"
      ]
     },
     "execution_count": 4,
     "metadata": {},
     "output_type": "execute_result"
    }
   ],
   "source": [
    "from sklearn.linear_model import Lasso\n",
    "model = Lasso(alpha=2.0/50, fit_intercept=False, max_iter=10000, tol=1e-14, selection='cyclic')\n",
    "model.fit(X, y)\n",
    "sum(model.coef_ != 0)"
   ]
  },
  {
   "cell_type": "code",
   "execution_count": null,
   "metadata": {
    "collapsed": false
   },
   "outputs": [],
   "source": []
  },
  {
   "cell_type": "markdown",
   "metadata": {},
   "source": [
    "### Optimize the problem with GCD, run only 50 iterations for the initial investigation"
   ]
  },
  {
   "cell_type": "code",
   "execution_count": 5,
   "metadata": {
    "collapsed": false
   },
   "outputs": [
    {
     "name": "stdout",
     "output_type": "stream",
     "text": [
      "optimization finished!\n"
     ]
    }
   ],
   "source": [
    "model1 = lasso_gcd(maxiter=50, lamb = 2.0, L = 1, delta=1.0, verbose = True, interval = 1)\n",
    "model1.fit(A, b, model.coef_)"
   ]
  },
  {
   "cell_type": "markdown",
   "metadata": {},
   "source": [
    "### Reproduce Figure 1 (a)"
   ]
  },
  {
   "cell_type": "code",
   "execution_count": 6,
   "metadata": {
    "collapsed": false
   },
   "outputs": [
    {
     "data": {
      "image/png": "[encoded data removed]",
      "text/plain": [
       "<matplotlib.figure.Figure at 0x10ae4ce80>"
      ]
     },
     "metadata": {},
     "output_type": "display_data"
    }
   ],
   "source": [
    "matplotlib.rcParams.update({'font.size': 18})\n",
    "matplotlib.rc('xtick', labelsize=18) \n",
    "matplotlib.rc('ytick', labelsize=18)\n",
    "plt.rc('text', usetex=True)\n",
    "\n",
    "#plt.plot( model1.n_inactive )\n",
    "plt.plot( model1.n_inactive_grad, 'b-' )\n",
    "plt.plot( 10000*np.ones( len(model1.n_inactive_grad) ), '-.' )\n",
    "plt.xlim([0, 40])\n",
    "plt.xlabel('\\# iter')\n",
    "plt.ylabel('\\# inactive')\n",
    "plt.title('\\# inactive v.s. \\# iter')\n",
    "plt.tight_layout()\n",
    "#plt.savefig('pic/inactive_plot_large.png', dpi=300)\n",
    "plt.show()"
   ]
  },
  {
   "cell_type": "code",
   "execution_count": 7,
   "metadata": {
    "collapsed": false
   },
   "outputs": [],
   "source": [
    "exact_obj = 0.5*norm( A.dot( model.coef_ ) - b ,2 )**2 + 2.0*norm( model.coef_ ,1)\n",
    "exact_obj\n",
    "obj_list = model1.obj_list\n",
    "obj_gap = obj_list - exact_obj\n",
    "progress = 1 - obj_gap[1:]/obj_gap[:-1]"
   ]
  },
  {
   "cell_type": "markdown",
   "metadata": {},
   "source": [
    "### Reproduce Figure 1 (b)"
   ]
  },
  {
   "cell_type": "code",
   "execution_count": 8,
   "metadata": {
    "collapsed": false
   },
   "outputs": [
    {
     "data": {
      "image/png": "[encoded data removed]",
      "text/plain": [
       "<matplotlib.figure.Figure at 0x10ae4c908>"
      ]
     },
     "metadata": {},
     "output_type": "display_data"
    }
   ],
   "source": [
    "plt.rc('text', usetex=True)\n",
    "plt.plot( progress, 'b-^' )\n",
    "plt.xlim([0, 40])\n",
    "plt.ylim( [0, 0.8] )\n",
    "plt.xlabel('\\# iter')\n",
    "plt.ylabel(r'$\\rho_t$', fontsize=17)\n",
    "plt.title('progress in first few iterations')\n",
    "plt.tight_layout()\n",
    "#plt.savefig('pic/beginning_progress_large.png', dpi=300)\n",
    "plt.show()"
   ]
  },
  {
   "cell_type": "markdown",
   "metadata": {},
   "source": [
    "### Reproduce Figure 2 (a)"
   ]
  },
  {
   "cell_type": "code",
   "execution_count": 9,
   "metadata": {
    "collapsed": true
   },
   "outputs": [],
   "source": [
    "def approx_mu1( A, sol, add_num, num_trails ):\n",
    "    nnz_pattern = [i for i in range(len(xx)) if xx[i] != 0 ]\n",
    "    for j in range(add_num):\n",
    "        while(True):\n",
    "            idx = np.random.randint( len(xx) )\n",
    "            if idx in nnz_pattern:\n",
    "                continue\n",
    "            else:\n",
    "                nnz_pattern.append( idx )\n",
    "                break\n",
    "    A_sub = A[:,nnz_pattern]\n",
    "    nnz = len(nnz_pattern)\n",
    "    res = []\n",
    "    for j in range( num_trails ):\n",
    "        x = np.random.randn( nnz )\n",
    "        mu_1 = norm( np.dot(A_sub, x), 2 )**2 / norm(x, 1)**2\n",
    "        res.append( mu_1 )\n",
    "    return res\n",
    "\n",
    "def approx_mu1_global( A, num_trails ):\n",
    "    res = []\n",
    "    for j in range( num_trails ):\n",
    "        nnz = A.shape[1]\n",
    "        x = np.random.randn( nnz )\n",
    "        mu_1 = norm( np.dot(A, x), 2 )**2 / norm(x, 1)**2\n",
    "        res.append( mu_1 )\n",
    "    return res"
   ]
  },
  {
   "cell_type": "code",
   "execution_count": 10,
   "metadata": {
    "collapsed": true
   },
   "outputs": [],
   "source": [
    "n_trails = 1000\n",
    "mu_1_list = []\n",
    "t = 30\n",
    "for i in range( t ):\n",
    "    mu_1_list.append(  np.min(  approx_mu1(A, model.coef_, i, n_trails)  )  )\n",
    "\n",
    "global_mu1 = np.min( approx_mu1_global( A, 1000 ) )"
   ]
  },
  {
   "cell_type": "code",
   "execution_count": 11,
   "metadata": {
    "collapsed": false
   },
   "outputs": [
    {
     "data": {
      "image/png": "[encoded data removed]",
      "text/plain": [
       "<matplotlib.figure.Figure at 0x10c336358>"
      ]
     },
     "metadata": {},
     "output_type": "display_data"
    }
   ],
   "source": [
    "matplotlib.rcParams.update({'font.size': 16})\n",
    "plt.rc('text', usetex=True)\n",
    "\n",
    "it = np.linspace( 0, 29, 30 )\n",
    "plt.plot( it, mu_1_list, label=r\"approximate $  \\mu_1^{( \\tau + i ) }$\" )\n",
    "plt.plot( it, global_mu1*np.ones(len(it)), '-.' , label=r\"global $\\mu_1$\")\n",
    "plt.legend()\n",
    "plt.ylabel(r\"approximate $  \\mu_1^{( \\tau + i ) }$\")\n",
    "plt.xlabel(r\"$i$\")\n",
    "plt.show()\n",
    "#plt.tight_layout()\n",
    "#plt.savefig(\"pic/mu_1_plot.png\", dpi=300)"
   ]
  },
  {
   "cell_type": "markdown",
   "metadata": {},
   "source": [
    "### Run GCD for 10000 iterations, this step is time consuming"
   ]
  },
  {
   "cell_type": "code",
   "execution_count": 12,
   "metadata": {
    "collapsed": false
   },
   "outputs": [
    {
     "name": "stdout",
     "output_type": "stream",
     "text": [
      "optimization finished!\n"
     ]
    }
   ],
   "source": [
    "model1 = lasso_gcd(maxiter=10000, lamb = 2.0, L = 1, delta=1.0, verbose = True, interval = 10)\n",
    "model1.fit(A, b, model.coef_)"
   ]
  },
  {
   "cell_type": "markdown",
   "metadata": {},
   "source": [
    "### Reproduce Figure 2 (b)"
   ]
  },
  {
   "cell_type": "code",
   "execution_count": 13,
   "metadata": {
    "collapsed": false
   },
   "outputs": [
    {
     "data": {
      "image/png": "[encoded data removed]",
      "text/plain": [
       "<matplotlib.figure.Figure at 0x10742e470>"
      ]
     },
     "metadata": {},
     "output_type": "display_data"
    }
   ],
   "source": [
    "plt.plot(model1.bound[:], label=r\"$B_t + t$\")\n",
    "plt.plot( np.min(model1.bound)*np.ones( len(model1.bound) ), '-.', label=r\" $\\min\\{B_t + t\\}$ \" )\n",
    "plt.legend()\n",
    "plt.ylim(0, 12000)\n",
    "plt.xlabel(r\"$t$ (\\# iter)\")\n",
    "plt.ylabel(r\"$B_t + t$\")\n",
    "plt.tight_layout()\n",
    "#plt.savefig(\"pic/Wbound_realdata.png\", dpi=300)\n",
    "plt.show()"
   ]
  },
  {
   "cell_type": "code",
   "execution_count": 14,
   "metadata": {
    "collapsed": false
   },
   "outputs": [],
   "source": [
    "import pandas as pd\n",
    "df=pd.read_csv('../datasets/leukemia_big.csv', sep=',',header=0)"
   ]
  },
  {
   "cell_type": "code",
   "execution_count": 15,
   "metadata": {
    "collapsed": false
   },
   "outputs": [
    {
     "name": "stdout",
     "output_type": "stream",
     "text": [
      "(72,)\n",
      "(72, 7128)\n"
     ]
    }
   ],
   "source": [
    "hd = list(df)\n",
    "y = [ float( 'ALL' in res ) for res in hd ]\n",
    "y = np.array( y )\n",
    "print( y.shape )\n",
    "X = df.values\n",
    "X = X.T\n",
    "print( X.shape )\n",
    "X = normalize(X.T).T"
   ]
  },
  {
   "cell_type": "markdown",
   "metadata": {},
   "source": [
    "### Run $\\Delta$-GCD for a LASSO problem with the dataset leukemia."
   ]
  },
  {
   "cell_type": "code",
   "execution_count": 16,
   "metadata": {
    "collapsed": false
   },
   "outputs": [
    {
     "name": "stdout",
     "output_type": "stream",
     "text": [
      "optimization finished!\n",
      "optimization finished!\n",
      "optimization finished!\n"
     ]
    }
   ],
   "source": [
    "model1 = lasso_gcd(maxiter=int(1e4), lamb = 1e-1, delta=np.sqrt(1.0), verbose = True)\n",
    "model1.fit(X, y)\n",
    "model2 = lasso_gcd(maxiter=int(1e4), lamb = 1e-1, delta=np.sqrt(0.5), verbose = True)\n",
    "model2.fit(X, y)\n",
    "model3 = lasso_gcd(maxiter=int(1e4), lamb = 1e-1, delta=np.sqrt(0.1), verbose = True)\n",
    "model3.fit(X, y)"
   ]
  },
  {
   "cell_type": "code",
   "execution_count": 18,
   "metadata": {
    "collapsed": false
   },
   "outputs": [
    {
     "data": {
      "text/plain": [
       "Lasso(alpha=0.001388888888888889, copy_X=True, fit_intercept=False,\n",
       "   max_iter=10000, normalize=False, positive=False, precompute=False,\n",
       "   random_state=None, selection='cyclic', tol=1e-14, warm_start=False)"
      ]
     },
     "execution_count": 18,
     "metadata": {},
     "output_type": "execute_result"
    }
   ],
   "source": [
    "# get exact optimal value\n",
    "from sklearn.linear_model import Lasso\n",
    "model = Lasso(alpha=1e-1/72.0, fit_intercept=False, max_iter=10000, tol=1e-14, selection='cyclic')\n",
    "model.fit(X, y)"
   ]
  },
  {
   "cell_type": "code",
   "execution_count": 21,
   "metadata": {
    "collapsed": false
   },
   "outputs": [
    {
     "data": {
      "image/png": "[encoded data removed]",
      "text/plain": [
       "<matplotlib.figure.Figure at 0x10afad5c0>"
      ]
     },
     "metadata": {},
     "output_type": "display_data"
    }
   ],
   "source": [
    "matplotlib.rcParams.update({'font.size': 12})\n",
    "matplotlib.rc('xtick', labelsize=12) \n",
    "matplotlib.rc('ytick', labelsize=12)\n",
    "\n",
    "xx = model.coef_\n",
    "exact_obj = 0.5*np.linalg.norm( np.dot(X, xx) - y, 2 )**2 + 1e-1*np.linalg.norm( xx, 1 ) \n",
    "obj1 = model1.obj_list\n",
    "obj2 = model2.obj_list\n",
    "obj3 = model3.obj_list\n",
    "rel_error1 = (obj1 - exact_obj) / exact_obj\n",
    "rel_error2 = (obj2 - exact_obj) / exact_obj\n",
    "rel_error3 = (obj3 - exact_obj) / exact_obj\n",
    "it = np.linspace( 0, 10000, 1000 )\n",
    "#print(obj1[-1])\n",
    "\n",
    "\n",
    "fig, ax1 = plt.subplots()\n",
    "\n",
    "ax1.semilogy(it, rel_error1, 'b-', label = r\"$\\Delta = 1.0$\")\n",
    "ax1.semilogy(it, rel_error2, 'r-', label = r\"$\\Delta = 0.5$\")\n",
    "ax1.semilogy(it, rel_error3, 'g-', label = r\"$\\Delta = 0.1$\")\n",
    "#ax1.set_ylim([1e-3, 1e1])\n",
    "plt.legend()\n",
    "\n",
    "# ax1.set_xlabel('time (s)')\n",
    "# # Make the y-axis label, ticks and tick labels match the line color.\n",
    "ax1.set_ylabel('relative error')\n",
    "ax1.set_xlabel(r'\\# iter')\n",
    "\n",
    "#ax1.tick_params('relative error')\n",
    "\n",
    "\n",
    "ax2 = ax1.twinx()\n",
    "ax2.plot(it, model1.nnz_sol, 'b-.')\n",
    "ax2.plot(it, model2.nnz_sol, 'r-.')\n",
    "ax2.plot(it, model3.nnz_sol, 'g-.')\n",
    "\n",
    "\n",
    "ax2.set_ylabel('nnz iterates')\n",
    "ax2.tick_params('nnz iterates')\n",
    "\n",
    "plt.ticklabel_format(style='sci', axis='x', scilimits=(1,4))\n",
    "\n",
    "plt.tight_layout()\n",
    "plt.show()\n",
    "#plt.savefig(\"pic/leuk_lasso_1e-2.png\", dpi=300)\n"
   ]
  },
  {
   "cell_type": "code",
   "execution_count": null,
   "metadata": {
    "collapsed": true
   },
   "outputs": [],
   "source": []
  }
 ],
 "metadata": {
  "kernelspec": {
   "display_name": "Python 3",
   "language": "python",
   "name": "python3"
  },
  "language_info": {
   "codemirror_mode": {
    "name": "ipython",
    "version": 3
   },
   "file_extension": ".py",
   "mimetype": "text/x-python",
   "name": "python",
   "nbconvert_exporter": "python",
   "pygments_lexer": "ipython3",
   "version": "3.5.1"
  }
 },
 "nbformat": 4,
 "nbformat_minor": 1
}
